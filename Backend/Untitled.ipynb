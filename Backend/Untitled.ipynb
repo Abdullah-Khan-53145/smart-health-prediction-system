{
 "cells": [
  {
   "cell_type": "code",
   "execution_count": 1,
   "id": "70b87dc6",
   "metadata": {},
   "outputs": [
    {
     "name": "stdout",
     "output_type": "stream",
     "text": [
      "1.0\n"
     ]
    }
   ],
   "source": [
    "import pandas as pd\n",
    "import numpy as np\n",
    "\n",
    "\n",
    "from sklearn.model_selection import train_test_split\n",
    "from sklearn.metrics import accuracy_score\n",
    "\n",
    "df=pd.read_csv(\"Book1.csv\",encoding=\"unicode_escape\")\n",
    "\n",
    "#Remove NUll values\n",
    "\n",
    "categorical=[var for var in df.columns if df[var].dtype=='O']\n",
    "\n",
    "\n",
    "#seprate label and features\n",
    "x=df.iloc[:,0:132]\n",
    "y=df.iloc[:,-1]\n",
    "\n",
    "xtrain,xtest,ytrain,ytest=train_test_split(x,y,test_size=0.1)\n",
    "\n",
    "\n",
    "from sklearn.svm import SVC\n",
    "model=SVC(kernel='linear')\n",
    "model.fit(xtrain,ytrain)\n",
    "sc=model.score(xtrain,ytrain)\n",
    "ypred=model.predict(xtest)\n",
    "sc1=accuracy_score(ytest,ypred)\n",
    "print(sc1)\n"
   ]
  },
  {
   "cell_type": "code",
   "execution_count": 2,
   "id": "b5f14101",
   "metadata": {},
   "outputs": [],
   "source": [
    "from sklearn.linear_model import LogisticRegression\n",
    "model1=LogisticRegression()\n",
    "model1.fit(xtrain,ytrain)\n",
    "sc=model.score(xtrain,ytrain)\n",
    "ypred=model.predict(xtest)\n",
    "sc2=accuracy_score(ytest,ypred)"
   ]
  },
  {
   "cell_type": "code",
   "execution_count": 3,
   "id": "d1013185",
   "metadata": {},
   "outputs": [],
   "source": [
    "model2=SVC(kernel=\"linear\")\n",
    "model2.fit(xtrain,ytrain)\n",
    "sc=model2.score(xtrain,ytrain)\n",
    "ypred2=model2.predict(xtest)\n",
    "sc3=accuracy_score(ytest,ypred2)"
   ]
  },
  {
   "cell_type": "code",
   "execution_count": 4,
   "id": "7c386e1e",
   "metadata": {},
   "outputs": [],
   "source": [
    "model3=SVC(kernel=\"rbf\")\n",
    "model3.fit(xtrain,ytrain)\n",
    "sc_rbf=model3.score(xtrain,ytrain)\n",
    "ypred_rbf=model3.predict(xtest)\n",
    "sc4=accuracy_score(ytest,ypred_rbf)"
   ]
  },
  {
   "cell_type": "code",
   "execution_count": 5,
   "id": "d91ce8dc",
   "metadata": {},
   "outputs": [],
   "source": [
    "from sklearn.naive_bayes import GaussianNB\n",
    "\n",
    "model6=GaussianNB()\n",
    "model6.fit(xtrain,ytrain)\n",
    "sc=model6.score(xtrain,ytrain)\n",
    "ypred=model6.predict(xtest)\n",
    "sc7=accuracy_score(ypred,ytest)"
   ]
  },
  {
   "cell_type": "code",
   "execution_count": 6,
   "id": "26680d38",
   "metadata": {},
   "outputs": [],
   "source": [
    "from sklearn.naive_bayes import BernoulliNB\n",
    "\n",
    "model7=BernoulliNB()\n",
    "model7.fit(xtrain,ytrain)\n",
    "sc=model7.score(xtrain,ytrain)\n",
    "ypred2=model7.predict(xtest)\n",
    "sc8=accuracy_score(ypred2,ytest)"
   ]
  },
  {
   "cell_type": "code",
   "execution_count": 7,
   "id": "a46025f0",
   "metadata": {},
   "outputs": [],
   "source": [
    "from sklearn.naive_bayes import MultinomialNB\n",
    "\n",
    "model8=MultinomialNB()\n",
    "model8.fit(xtrain,ytrain)\n",
    "sc=model8.score(xtrain,ytrain)\n",
    "ypred3=model8.predict(xtest)\n",
    "sc9=accuracy_score(ypred3,ytest)"
   ]
  },
  {
   "cell_type": "code",
   "execution_count": 8,
   "id": "ed27978f",
   "metadata": {},
   "outputs": [
    {
     "name": "stdout",
     "output_type": "stream",
     "text": [
      "SVC-Linear: 1.0\n",
      "SVC-RBF: 1.0\n",
      "SVC-Polynomial: 0.8461538461538461\n",
      "Logistic Regression: 1.0\n",
      "Naive Bayes -Bernoulli: 0.3076923076923077\n",
      "Naive Bayes -Multinomial: 0.7692307692307693\n"
     ]
    }
   ],
   "source": [
    "print(\"SVC-Linear:\",sc2)\n",
    "print(\"SVC-RBF:\",sc3)\n",
    "print(\"SVC-Polynomial:\",sc4)\n",
    "print(\"Logistic Regression:\",sc7)\n",
    "print(\"Naive Bayes -Bernoulli:\",sc8)\n",
    "print(\"Naive Bayes -Multinomial:\",sc9)"
   ]
  },
  {
   "cell_type": "code",
   "execution_count": 10,
   "id": "3ef8743e",
   "metadata": {},
   "outputs": [],
   "source": [
    "import pickle\n",
    "pickle.dump(model8,open('shealth.pkl','wb'))"
   ]
  },
  {
   "cell_type": "code",
   "execution_count": null,
   "id": "2b5ab9ef",
   "metadata": {},
   "outputs": [],
   "source": []
  }
 ],
 "metadata": {
  "kernelspec": {
   "display_name": "Python 3 (ipykernel)",
   "language": "python",
   "name": "python3"
  },
  "language_info": {
   "codemirror_mode": {
    "name": "ipython",
    "version": 3
   },
   "file_extension": ".py",
   "mimetype": "text/x-python",
   "name": "python",
   "nbconvert_exporter": "python",
   "pygments_lexer": "ipython3",
   "version": "3.9.7"
  }
 },
 "nbformat": 4,
 "nbformat_minor": 5
}
